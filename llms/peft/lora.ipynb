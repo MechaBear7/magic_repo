{
 "cells": [
  {
   "cell_type": "markdown",
   "metadata": {},
   "source": [
    "# LORA\n",
    "\n",
    "LoRA(Low-Rank Adaptation) 通过在训练过程中对模型参数进行低秩分解，从而减少模型参数的数量，提高模型的泛化能力。\n",
    "\n",
    "LoRA的核心思想是将模型参数分解为两个低秩矩阵的乘积，从而减少模型参数的数量。LoRA的优势在于，它可以在不损失模型性能的情况下，大幅度减少模型参数的数量，提高模型的泛化能力。"
   ]
  },
  {
   "cell_type": "markdown",
   "metadata": {},
   "source": []
  }
 ],
 "metadata": {
  "kernelspec": {
   "display_name": "Python 3",
   "language": "python",
   "name": "python3"
  },
  "language_info": {
   "codemirror_mode": {
    "name": "ipython",
    "version": 3
   },
   "file_extension": ".py",
   "mimetype": "text/x-python",
   "name": "python",
   "nbconvert_exporter": "python",
   "pygments_lexer": "ipython3",
   "version": "3.10.14"
  }
 },
 "nbformat": 4,
 "nbformat_minor": 2
}
